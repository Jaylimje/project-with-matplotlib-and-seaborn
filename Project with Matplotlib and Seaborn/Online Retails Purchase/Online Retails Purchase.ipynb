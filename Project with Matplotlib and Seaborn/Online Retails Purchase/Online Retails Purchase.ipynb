{
 "cells": [
  {
   "cell_type": "markdown",
   "id": "26ea881d-3831-465e-8fcb-ea7265bfea82",
   "metadata": {},
   "source": [
    "# Step 1. Import the necessary libraries"
   ]
  },
  {
   "cell_type": "code",
   "execution_count": 1,
   "id": "6168953a-ae42-43e9-9d7c-d2c0854094af",
   "metadata": {},
   "outputs": [],
   "source": [
    "import pandas as pd\n",
    "import matplotlib.pyplot as plt\n",
    "import seaborn as sns\n",
    "%matplotlib inline"
   ]
  },
  {
   "cell_type": "markdown",
   "id": "57980d45-9036-49e4-9102-585a782257ce",
   "metadata": {},
   "source": [
    "# Step 2. Import the dataset from this address."
   ]
  },
  {
   "cell_type": "markdown",
   "id": "dc651b51-045a-4aae-8949-858ccb5be745",
   "metadata": {},
   "source": [
    "# Step 3. Assign it to a variable called online_rt\n",
    "Note: if you receive a utf-8 decode error, set encoding = 'latin1' in pd.read_csv() ."
   ]
  },
  {
   "cell_type": "code",
   "execution_count": 2,
   "id": "f5db5e2d-05af-458c-87d7-54c1b4a1f57a",
   "metadata": {},
   "outputs": [
    {
     "data": {
      "text/html": [
       "<div>\n",
       "<style scoped>\n",
       "    .dataframe tbody tr th:only-of-type {\n",
       "        vertical-align: middle;\n",
       "    }\n",
       "\n",
       "    .dataframe tbody tr th {\n",
       "        vertical-align: top;\n",
       "    }\n",
       "\n",
       "    .dataframe thead th {\n",
       "        text-align: right;\n",
       "    }\n",
       "</style>\n",
       "<table border=\"1\" class=\"dataframe\">\n",
       "  <thead>\n",
       "    <tr style=\"text-align: right;\">\n",
       "      <th></th>\n",
       "      <th>InvoiceNo</th>\n",
       "      <th>StockCode</th>\n",
       "      <th>Description</th>\n",
       "      <th>Quantity</th>\n",
       "      <th>InvoiceDate</th>\n",
       "      <th>UnitPrice</th>\n",
       "      <th>CustomerID</th>\n",
       "      <th>Country</th>\n",
       "    </tr>\n",
       "  </thead>\n",
       "  <tbody>\n",
       "    <tr>\n",
       "      <th>0</th>\n",
       "      <td>536365</td>\n",
       "      <td>85123A</td>\n",
       "      <td>WHITE HANGING HEART T-LIGHT HOLDER</td>\n",
       "      <td>6</td>\n",
       "      <td>12/1/10 8:26</td>\n",
       "      <td>2.55</td>\n",
       "      <td>17850.0</td>\n",
       "      <td>United Kingdom</td>\n",
       "    </tr>\n",
       "    <tr>\n",
       "      <th>1</th>\n",
       "      <td>536365</td>\n",
       "      <td>71053</td>\n",
       "      <td>WHITE METAL LANTERN</td>\n",
       "      <td>6</td>\n",
       "      <td>12/1/10 8:26</td>\n",
       "      <td>3.39</td>\n",
       "      <td>17850.0</td>\n",
       "      <td>United Kingdom</td>\n",
       "    </tr>\n",
       "    <tr>\n",
       "      <th>2</th>\n",
       "      <td>536365</td>\n",
       "      <td>84406B</td>\n",
       "      <td>CREAM CUPID HEARTS COAT HANGER</td>\n",
       "      <td>8</td>\n",
       "      <td>12/1/10 8:26</td>\n",
       "      <td>2.75</td>\n",
       "      <td>17850.0</td>\n",
       "      <td>United Kingdom</td>\n",
       "    </tr>\n",
       "    <tr>\n",
       "      <th>3</th>\n",
       "      <td>536365</td>\n",
       "      <td>84029G</td>\n",
       "      <td>KNITTED UNION FLAG HOT WATER BOTTLE</td>\n",
       "      <td>6</td>\n",
       "      <td>12/1/10 8:26</td>\n",
       "      <td>3.39</td>\n",
       "      <td>17850.0</td>\n",
       "      <td>United Kingdom</td>\n",
       "    </tr>\n",
       "    <tr>\n",
       "      <th>4</th>\n",
       "      <td>536365</td>\n",
       "      <td>84029E</td>\n",
       "      <td>RED WOOLLY HOTTIE WHITE HEART.</td>\n",
       "      <td>6</td>\n",
       "      <td>12/1/10 8:26</td>\n",
       "      <td>3.39</td>\n",
       "      <td>17850.0</td>\n",
       "      <td>United Kingdom</td>\n",
       "    </tr>\n",
       "    <tr>\n",
       "      <th>...</th>\n",
       "      <td>...</td>\n",
       "      <td>...</td>\n",
       "      <td>...</td>\n",
       "      <td>...</td>\n",
       "      <td>...</td>\n",
       "      <td>...</td>\n",
       "      <td>...</td>\n",
       "      <td>...</td>\n",
       "    </tr>\n",
       "    <tr>\n",
       "      <th>541904</th>\n",
       "      <td>581587</td>\n",
       "      <td>22613</td>\n",
       "      <td>PACK OF 20 SPACEBOY NAPKINS</td>\n",
       "      <td>12</td>\n",
       "      <td>12/9/11 12:50</td>\n",
       "      <td>0.85</td>\n",
       "      <td>12680.0</td>\n",
       "      <td>France</td>\n",
       "    </tr>\n",
       "    <tr>\n",
       "      <th>541905</th>\n",
       "      <td>581587</td>\n",
       "      <td>22899</td>\n",
       "      <td>CHILDREN'S APRON DOLLY GIRL</td>\n",
       "      <td>6</td>\n",
       "      <td>12/9/11 12:50</td>\n",
       "      <td>2.10</td>\n",
       "      <td>12680.0</td>\n",
       "      <td>France</td>\n",
       "    </tr>\n",
       "    <tr>\n",
       "      <th>541906</th>\n",
       "      <td>581587</td>\n",
       "      <td>23254</td>\n",
       "      <td>CHILDRENS CUTLERY DOLLY GIRL</td>\n",
       "      <td>4</td>\n",
       "      <td>12/9/11 12:50</td>\n",
       "      <td>4.15</td>\n",
       "      <td>12680.0</td>\n",
       "      <td>France</td>\n",
       "    </tr>\n",
       "    <tr>\n",
       "      <th>541907</th>\n",
       "      <td>581587</td>\n",
       "      <td>23255</td>\n",
       "      <td>CHILDRENS CUTLERY CIRCUS PARADE</td>\n",
       "      <td>4</td>\n",
       "      <td>12/9/11 12:50</td>\n",
       "      <td>4.15</td>\n",
       "      <td>12680.0</td>\n",
       "      <td>France</td>\n",
       "    </tr>\n",
       "    <tr>\n",
       "      <th>541908</th>\n",
       "      <td>581587</td>\n",
       "      <td>22138</td>\n",
       "      <td>BAKING SET 9 PIECE RETROSPOT</td>\n",
       "      <td>3</td>\n",
       "      <td>12/9/11 12:50</td>\n",
       "      <td>4.95</td>\n",
       "      <td>12680.0</td>\n",
       "      <td>France</td>\n",
       "    </tr>\n",
       "  </tbody>\n",
       "</table>\n",
       "<p>541909 rows × 8 columns</p>\n",
       "</div>"
      ],
      "text/plain": [
       "       InvoiceNo StockCode                          Description  Quantity  \\\n",
       "0         536365    85123A   WHITE HANGING HEART T-LIGHT HOLDER         6   \n",
       "1         536365     71053                  WHITE METAL LANTERN         6   \n",
       "2         536365    84406B       CREAM CUPID HEARTS COAT HANGER         8   \n",
       "3         536365    84029G  KNITTED UNION FLAG HOT WATER BOTTLE         6   \n",
       "4         536365    84029E       RED WOOLLY HOTTIE WHITE HEART.         6   \n",
       "...          ...       ...                                  ...       ...   \n",
       "541904    581587     22613          PACK OF 20 SPACEBOY NAPKINS        12   \n",
       "541905    581587     22899         CHILDREN'S APRON DOLLY GIRL          6   \n",
       "541906    581587     23254        CHILDRENS CUTLERY DOLLY GIRL          4   \n",
       "541907    581587     23255      CHILDRENS CUTLERY CIRCUS PARADE         4   \n",
       "541908    581587     22138        BAKING SET 9 PIECE RETROSPOT          3   \n",
       "\n",
       "          InvoiceDate  UnitPrice  CustomerID         Country  \n",
       "0        12/1/10 8:26       2.55     17850.0  United Kingdom  \n",
       "1        12/1/10 8:26       3.39     17850.0  United Kingdom  \n",
       "2        12/1/10 8:26       2.75     17850.0  United Kingdom  \n",
       "3        12/1/10 8:26       3.39     17850.0  United Kingdom  \n",
       "4        12/1/10 8:26       3.39     17850.0  United Kingdom  \n",
       "...               ...        ...         ...             ...  \n",
       "541904  12/9/11 12:50       0.85     12680.0          France  \n",
       "541905  12/9/11 12:50       2.10     12680.0          France  \n",
       "541906  12/9/11 12:50       4.15     12680.0          France  \n",
       "541907  12/9/11 12:50       4.15     12680.0          France  \n",
       "541908  12/9/11 12:50       4.95     12680.0          France  \n",
       "\n",
       "[541909 rows x 8 columns]"
      ]
     },
     "execution_count": 2,
     "metadata": {},
     "output_type": "execute_result"
    }
   ],
   "source": [
    "online_rt = pd.read_csv('Online_Retail.csv', encoding= 'latin1')\n",
    "online_rt"
   ]
  },
  {
   "cell_type": "markdown",
   "id": "5826c7be-d6fe-4223-ad4c-a9544ee69dd5",
   "metadata": {},
   "source": [
    "# Step 4. Create a histogram with the 10 countries that have the most 'Quantity' ordered except UK"
   ]
  },
  {
   "cell_type": "code",
   "execution_count": 3,
   "id": "698c7035-beb0-4f2b-b59f-0021cccc4ff2",
   "metadata": {},
   "outputs": [
    {
     "data": {
      "text/plain": [
       "array(['United Kingdom', 'France', 'Australia', 'Netherlands', 'Germany',\n",
       "       'Norway', 'EIRE', 'Switzerland', 'Spain', 'Poland', 'Portugal',\n",
       "       'Italy', 'Belgium', 'Lithuania', 'Japan', 'Iceland',\n",
       "       'Channel Islands', 'Denmark', 'Cyprus', 'Sweden', 'Austria',\n",
       "       'Israel', 'Finland', 'Bahrain', 'Greece', 'Hong Kong', 'Singapore',\n",
       "       'Lebanon', 'United Arab Emirates', 'Saudi Arabia',\n",
       "       'Czech Republic', 'Canada', 'Unspecified', 'Brazil', 'USA',\n",
       "       'European Community', 'Malta', 'RSA'], dtype=object)"
      ]
     },
     "execution_count": 3,
     "metadata": {},
     "output_type": "execute_result"
    }
   ],
   "source": [
    "online_rt['Country'].unique()"
   ]
  },
  {
   "cell_type": "code",
   "execution_count": 4,
   "id": "35ea8e91-94d8-4f2f-bf8c-1c6ffbc625e7",
   "metadata": {},
   "outputs": [
    {
     "data": {
      "text/plain": [
       "38"
      ]
     },
     "execution_count": 4,
     "metadata": {},
     "output_type": "execute_result"
    }
   ],
   "source": [
    "online_rt['Country'].value_counts().count()"
   ]
  },
  {
   "cell_type": "code",
   "execution_count": null,
   "id": "b5479adc-bc46-4b94-b36e-6f1814efe31a",
   "metadata": {},
   "outputs": [],
   "source": [
    "countries = online_rt.groupby('Country').sum()\n",
    "countries = countries.sort_values(by = 'Quantity',ascending = False)[1:11]\n",
    "countries['Quantity'].plot(kind='bar')\n",
    "\n",
    "plt.xlabel('Countries')\n",
    "plt.ylabel('Quantity')\n",
    "plt.title('10 Countries with most orders')\n",
    "plt.show()"
   ]
  },
  {
   "cell_type": "markdown",
   "id": "d2ec5c07-12c9-4f21-9d37-bad32706b0c7",
   "metadata": {},
   "source": [
    "# Step 5. Exclude negative Quantity entries"
   ]
  },
  {
   "cell_type": "code",
   "execution_count": null,
   "id": "ce1c91c9-0453-4863-bfa0-d70c0c8ed4e4",
   "metadata": {},
   "outputs": [],
   "source": [
    "online_rt = online_rt[online_rt.Quantity > 0]\n",
    "online_rt.head()"
   ]
  },
  {
   "cell_type": "markdown",
   "id": "ecdb1081-e97a-4562-99e7-dc7343c4ff6c",
   "metadata": {},
   "source": [
    "# Step 6. Create a scatterplot with the Quantity per UnitPrice by CustomerID for the top 3 Countries (except UK)"
   ]
  },
  {
   "cell_type": "code",
   "execution_count": null,
   "id": "5e3333f1-b90b-4e94-a938-727224c66bcc",
   "metadata": {},
   "outputs": [],
   "source": [
    "customers = online_rt.groupby(['CustomerID', 'Country']).sum()\n",
    "customers = customers[customers.UnitPrice > 0]\n",
    "customers['Country'] = customers.index.get_level_values(1)\n",
    "top_countries = ['Netherlands', 'EIRE', 'Germany']\n",
    "customers = customers[customers['Country'].isin(top_countries)]\n",
    "\n",
    "g = sns.FacetGrid(customers, col='Country')\n",
    "g.map(plt.scatter, 'Quantity', 'UnitPrice', alpha=1)\n",
    "g.add_legend()"
   ]
  },
  {
   "cell_type": "markdown",
   "id": "18cf9d27-59f6-4add-9c6f-09441974ec1b",
   "metadata": {},
   "source": [
    "# Step 7. Investigate why the previous results look so uninformative.\n",
    "This section might seem a bit tedious to go through. But I've thought of it as some kind of a simulation of problems one might encounter when dealing with data and other people. Besides there is a prize at the end (i.e. Section 8).\n",
    "\n",
    "(But feel free to jump right ahead into Section 8 if you want; it doesn't require that you finish this section.)"
   ]
  },
  {
   "cell_type": "markdown",
   "id": "def03f18-24fc-493a-9f14-709b38a14385",
   "metadata": {},
   "source": [
    "# Step 7.1 Look at the first line of code in Step 6. And try to figure out if it leads to any kind of problem."
   ]
  },
  {
   "cell_type": "markdown",
   "id": "1f59129f-db4b-40f6-9c0e-54b278ae0e95",
   "metadata": {},
   "source": [
    "# Step 7.1.1 Display the first few rows of that DataFrame."
   ]
  },
  {
   "cell_type": "code",
   "execution_count": null,
   "id": "64bc1c77-a58d-4399-91cf-f4e7302db6e2",
   "metadata": {},
   "outputs": [],
   "source": [
    "customers = online_rt.groupby(['CustomerID','Country']).sum().head()\n",
    "customers"
   ]
  },
  {
   "cell_type": "markdown",
   "id": "e91493f8-6bed-4603-be70-cdbdd6b23041",
   "metadata": {},
   "source": [
    "# Step 7.1.2 Think about what that piece of code does and display the dtype of UnitPrice"
   ]
  },
  {
   "cell_type": "code",
   "execution_count": null,
   "id": "cfa20fb2-2dc7-4ff9-8397-95ea7b8e4773",
   "metadata": {},
   "outputs": [],
   "source": [
    "customers.UnitPrice.dtype"
   ]
  },
  {
   "cell_type": "markdown",
   "id": "09e6f887-959f-401c-a978-fc26f402e15f",
   "metadata": {},
   "source": [
    "# Step 7.1.3 Pull data from online_rt for CustomerID s 12346.0 and 12347.0."
   ]
  },
  {
   "cell_type": "code",
   "execution_count": null,
   "id": "0f76a511-d42a-4c2c-a08f-642a4375a5bd",
   "metadata": {},
   "outputs": [],
   "source": [
    "display(online_rt[online_rt.CustomerID == 12347.0].sort_values(by='UnitPrice', ascending = False).head())\n",
    "display(online_rt[online_rt.CustomerID == 12346.0].sort_values(by='UnitPrice', ascending = False).head())"
   ]
  },
  {
   "cell_type": "markdown",
   "id": "a37cd342-458f-4aae-abe1-7e02ea48a885",
   "metadata": {},
   "source": [
    "# Step 7.2 Reinterpreting the initial problem.\n",
    "To reiterate the question that we were dealing with:\n",
    "\"Create a scatterplot with the Quantity per UnitPrice by CustomerID for the top 3 Countries\"\n",
    "\n",
    "The question is open to a set of different interpretations. We need to disambiguate.\n",
    "\n",
    "We could do a single plot by looking at all the data from the top 3 countries. Or we could do one plot per country. To keep things consistent with the rest of the exercise, let's stick to the latter oprion. So that's settled.\n",
    "\n",
    "But \"top 3 countries\" with respect to what? Two answers suggest themselves: Total sales volume (i.e. total quantity sold) or total sales (i.e. revenue). This exercise goes for sales volume, so let's stick to that."
   ]
  },
  {
   "cell_type": "markdown",
   "id": "7a0e03a2-eee3-4e1d-86da-4768a8c80933",
   "metadata": {},
   "source": [
    "# Step 7.2.1 Find out the top 3 countries in terms of sales volume."
   ]
  },
  {
   "cell_type": "code",
   "execution_count": null,
   "id": "2259b378-c488-4743-98f4-606759687e59",
   "metadata": {},
   "outputs": [],
   "source": [
    "sales_volume = online_rt.groupby('Country').Quantity.sum().sort_values(ascending=False)\n",
    "\n",
    "top3 = sales_volume.index[1:4]\n",
    "top3"
   ]
  },
  {
   "cell_type": "markdown",
   "id": "0b8a9b9d-90c3-4130-b77d-6ce543dce6d1",
   "metadata": {},
   "source": [
    "# Step 7.2.2\n",
    "Now that we have the top 3 countries, we can focus on the rest of the problem:\n",
    "\n",
    "\"Quantity per UnitPrice by CustomerID\". We need to unpack that.\n",
    "\n",
    "\"by CustomerID\" part is easy. That means we're going to be plotting one dot per CustomerID's on our plot. In other words, we're going to be grouping by CustomerID.\n",
    "\n",
    "\"Quantity per UnitPrice\" is trickier. Here's what we know:\n",
    "\n",
    "One axis will represent a Quantity assigned to a given customer. This is easy; we can just plot the total Quantity for each customer. The other axis will represent a UnitPrice assigned to a given customer. Remember a single customer can have any number of orders with different prices, so summing up prices isn't quite helpful. Besides it's not quite clear what we mean when we say \"unit price per customer\"; it sounds like price of the customer! A reasonable alternative is that we assign each customer the average amount each has paid per item. So let's settle that question in that manner."
   ]
  },
  {
   "cell_type": "markdown",
   "id": "c91016cd-539f-4734-8089-3b44dfe3f0ca",
   "metadata": {},
   "source": [
    "# Step 7.3 Modify, select and plot data"
   ]
  },
  {
   "cell_type": "markdown",
   "id": "006004c3-0853-4943-bf35-8446fe1905fc",
   "metadata": {},
   "source": [
    "# Step 7.3.1 Add a column to online_rt called Revenue calculate the revenue (Quantity * UnitPrice) from each sale.\n",
    "We will use this later to figure out an average price per customer."
   ]
  },
  {
   "cell_type": "code",
   "execution_count": null,
   "id": "ff17a9e8-9975-40a2-b51a-ebad0982b2cd",
   "metadata": {},
   "outputs": [],
   "source": [
    "online_rt['Revenue'] = online_rt.Quantity * online_rt.UnitPrice\n",
    "online_rt.head()"
   ]
  },
  {
   "cell_type": "markdown",
   "id": "9df4a845-37c1-403d-9bb9-618232bba60b",
   "metadata": {},
   "source": [
    "# Step 7.3.2 Group by CustomerID and Country and find out the average price ( AvgPrice ) each customer spends per unit."
   ]
  },
  {
   "cell_type": "code",
   "execution_count": null,
   "id": "b7eb3f87-4ac3-453f-b72b-e67be988f057",
   "metadata": {},
   "outputs": [],
   "source": [
    "grouped = online_rt[online_rt.Country.isin(top3)].groupby(['CustomerID','Country'])\n",
    "\n",
    "plottable = grouped['Quantity', 'Revenue'].agg('sum')\n",
    "plottable['AvgPrice'] = plottable.Revenue / plottable.Quantity\n",
    "plottable['Country'] = plottable.index.get_level_values(1)\n",
    "plottable.head()"
   ]
  },
  {
   "cell_type": "markdown",
   "id": "da3cb1ef-e972-4223-ba84-1391378eeb5e",
   "metadata": {},
   "source": [
    "# Step 7.3.3 Plot"
   ]
  },
  {
   "cell_type": "code",
   "execution_count": null,
   "id": "d7770d01-78c7-4763-807f-474b8bcc7ff5",
   "metadata": {},
   "outputs": [],
   "source": [
    "g = sns.FacetGrid(plottable, col=\"Country\")\n",
    "g.map(plt.scatter, \"Quantity\", \"AvgPrice\", alpha=1)\n",
    "g.add_legend();"
   ]
  },
  {
   "cell_type": "markdown",
   "id": "c688b200-2e8c-4a97-ab46-f7e9bb70d101",
   "metadata": {},
   "source": [
    "# Step 7.4 What to do now?\n",
    "We aren't much better-off than what we started with. The data are still extremely scattered around and don't seem quite informative.\n",
    "\n",
    "But we shouldn't despair! There are two things to realize: \n",
    "1) The data seem to be skewed towaards the axes (e.g. we don't have any values where Quantity = 50000 and AvgPrice = 5). So that might suggest a trend.\n",
    "2) We have more data! We've only been looking at the data from 3 different countries and they are plotted on different graphs.\n",
    "\n",
    "So: we should plot the data regardless of Country and hopefully see a less scattered graph."
   ]
  },
  {
   "cell_type": "markdown",
   "id": "84356fdb-114e-47cf-b3d7-8e78199640fa",
   "metadata": {},
   "source": [
    "# Step 7.4.1 Plot the data for each CustomerID on a single graph"
   ]
  },
  {
   "cell_type": "code",
   "execution_count": null,
   "id": "ee10c91a-42d1-4811-8d89-02286a48ac03",
   "metadata": {},
   "outputs": [],
   "source": [
    "grouped = online_rt.groupby(['CustomerID'])\n",
    "plottable = grouped['Quantity','Revenue'].agg('sum')\n",
    "plottable['AvgPrice'] = plottable.Revenue / plottable.Quantity\n",
    "plt.scatter(plottable.Quantity, plottable.AvgPrice)\n",
    "plt.plot()"
   ]
  },
  {
   "cell_type": "markdown",
   "id": "977694bb-3e02-4fe5-b064-48e374933e54",
   "metadata": {},
   "source": [
    "# Step 7.4.2 Zoom in so we can see that curve more clearly"
   ]
  },
  {
   "cell_type": "code",
   "execution_count": null,
   "id": "e768b0cf-2099-4abf-8141-4fb37eea57df",
   "metadata": {},
   "outputs": [],
   "source": [
    "grouped = online_rt.groupby(['CustomerID','Country'])\n",
    "plottable = grouped.agg({'Quantity': 'sum',\n",
    "                         'Revenue': 'sum'})\n",
    "plottable['AvgPrice'] = plottable.Revenue / plottable.Quantity\n",
    "\n",
    "plt.scatter(plottable.Quantity, plottable.AvgPrice)\n",
    "plt.xlim(-40,2000) \n",
    "plt.ylim(-1,80)\n",
    "plt.plot()"
   ]
  },
  {
   "cell_type": "markdown",
   "id": "efab7ab1-e2ef-4223-b466-a4971b9ce596",
   "metadata": {},
   "source": [
    "# 8. Plot a line chart showing revenue (y) per UnitPrice (x).\n",
    "Did Step 7 give us any insights about the data? Sure! As average price increases, the quantity ordered decreses. But that's hardly surprising. It would be surprising if that wasn't the case!\n",
    "\n",
    "Nevertheless the rate of drop in quantity is so drastic, it makes me wonder how our revenue changes with respect to item price. It would not be that surprising if it didn't change that much. But it would be interesting to know whether most of our revenue comes from expensive or inexpensive items, and how that relation looks like.\n",
    "\n",
    "That is what we are going to do now."
   ]
  },
  {
   "cell_type": "markdown",
   "id": "bed2a947-cc63-431d-a12f-770d490ab114",
   "metadata": {},
   "source": [
    "# 8.1 Group UnitPrice by intervals of 1 for prices [0,50), and sum Quantity and Revenue ."
   ]
  },
  {
   "cell_type": "code",
   "execution_count": null,
   "id": "94363212-9659-45b8-8b11-44866a03c555",
   "metadata": {},
   "outputs": [],
   "source": [
    "price_start = 0 \n",
    "price_end = 50\n",
    "price_interval = 1\n",
    "\n",
    "buckets = np.arange(price_start,price_end,price_interval)\n",
    "revenue_per_price = online_rt.groupby(pd.cut(online_rt.UnitPrice, buckets)).Revenue.sum()\n",
    "revenue_per_price.head()"
   ]
  },
  {
   "cell_type": "markdown",
   "id": "7dfe38cc-c641-4e0c-beca-d94eec8e7e79",
   "metadata": {},
   "source": [
    "# 8.3 Plot."
   ]
  },
  {
   "cell_type": "code",
   "execution_count": null,
   "id": "f4507dce-cabd-462a-9be0-dc305b3c2d6b",
   "metadata": {},
   "outputs": [],
   "source": [
    "revenue_per_price.plot()\n",
    "plt.xlabel('Unit Price (in intervals of '+str(price_interval)+')')\n",
    "plt.ylabel('Revenue')\n",
    "plt.show()"
   ]
  },
  {
   "cell_type": "markdown",
   "id": "bf14ddbf-2960-461e-aba2-9d747c905e43",
   "metadata": {},
   "source": [
    "# 8.4 Make it look nicer.\n",
    "x-axis needs values.\n",
    "\n",
    "y-axis isn't that easy to read; show in terms of millions."
   ]
  },
  {
   "cell_type": "code",
   "execution_count": null,
   "id": "2b9c0f69-2d82-47d2-b053-1b8545500f26",
   "metadata": {},
   "outputs": [],
   "source": [
    "revenue_per_price.plot()\n",
    "\n",
    "plt.xlabel('Unit Price (in buckets of '+str(price_interval)+')') \n",
    "plt.ylabel('Revenue')\n",
    "plt.xticks(np.arange(price_start,price_end,3),\n",
    "           np.arange(price_start,price_end,3))\n",
    "plt.yticks([0, 500000, 1000000, 1500000, 2000000, 2500000],\n",
    "           ['0', '$0.5M', '$1M', '$1.5M', '$2M', '$2.5M'])\n",
    "plt.show()"
   ]
  }
 ],
 "metadata": {
  "kernelspec": {
   "display_name": "Python 3 (ipykernel)",
   "language": "python",
   "name": "python3"
  },
  "language_info": {
   "codemirror_mode": {
    "name": "ipython",
    "version": 3
   },
   "file_extension": ".py",
   "mimetype": "text/x-python",
   "name": "python",
   "nbconvert_exporter": "python",
   "pygments_lexer": "ipython3",
   "version": "3.11.7"
  }
 },
 "nbformat": 4,
 "nbformat_minor": 5
}
