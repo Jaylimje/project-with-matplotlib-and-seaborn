{
 "cells": [
  {
   "cell_type": "code",
   "execution_count": 1,
   "id": "b113f66a-50ea-4dec-879d-41332e0a2f3c",
   "metadata": {},
   "outputs": [],
   "source": [
    "import numpy as np"
   ]
  },
  {
   "cell_type": "markdown",
   "id": "20ad7500-b73c-4939-8d2a-58adfaaeb98c",
   "metadata": {},
   "source": [
    "# 1. How to create an empty and a full Numpy array?"
   ]
  },
  {
   "cell_type": "code",
   "execution_count": 2,
   "id": "78f5220c-339f-4859-9020-492153a408fa",
   "metadata": {},
   "outputs": [
    {
     "name": "stdout",
     "output_type": "stream",
     "text": [
      "[[0.00000000e+000 9.33432291e-312 9.33432291e-312 9.33432291e-312]]\n"
     ]
    }
   ],
   "source": [
    "emp_arr = np.empty((1,4))\n",
    "print(emp_arr)"
   ]
  },
  {
   "cell_type": "code",
   "execution_count": 3,
   "id": "a696862a-4644-4e41-bdaf-aa7c5a9d30db",
   "metadata": {},
   "outputs": [
    {
     "name": "stdout",
     "output_type": "stream",
     "text": [
      "[[8 8 8 8]\n",
      " [8 8 8 8]\n",
      " [8 8 8 8]]\n"
     ]
    }
   ],
   "source": [
    "full_arr = np.full((3,4),8)\n",
    "print(full_arr)"
   ]
  },
  {
   "cell_type": "markdown",
   "id": "24ffd8e9-c838-4ca0-a22e-0d4b3b43d982",
   "metadata": {},
   "source": [
    "# 2. Create a Numpy array filled with all zeros"
   ]
  },
  {
   "cell_type": "code",
   "execution_count": 5,
   "id": "d8ee80db-13f3-47f8-ab27-230e8402c0b5",
   "metadata": {},
   "outputs": [
    {
     "data": {
      "text/plain": [
       "array([[0., 0., 0., 0.],\n",
       "       [0., 0., 0., 0.],\n",
       "       [0., 0., 0., 0.],\n",
       "       [0., 0., 0., 0.],\n",
       "       [0., 0., 0., 0.]])"
      ]
     },
     "execution_count": 5,
     "metadata": {},
     "output_type": "execute_result"
    }
   ],
   "source": [
    "np.zeros((5,4))"
   ]
  },
  {
   "cell_type": "markdown",
   "id": "253c520e-e062-43fe-9e2d-4a4f1636c1ee",
   "metadata": {},
   "source": [
    "# 3. Create a Numpy array filled with all ones"
   ]
  },
  {
   "cell_type": "code",
   "execution_count": 6,
   "id": "14b47bb1-3a0d-45f6-9603-ebdd40ef2079",
   "metadata": {},
   "outputs": [
    {
     "data": {
      "text/plain": [
       "array([[1., 1., 1.],\n",
       "       [1., 1., 1.],\n",
       "       [1., 1., 1.],\n",
       "       [1., 1., 1.],\n",
       "       [1., 1., 1.]])"
      ]
     },
     "execution_count": 6,
     "metadata": {},
     "output_type": "execute_result"
    }
   ],
   "source": [
    "np.ones((5,3))"
   ]
  },
  {
   "cell_type": "markdown",
   "id": "84c7b08b-5018-4aa3-9c80-930d4e6ff830",
   "metadata": {},
   "source": [
    "# 4. Check whether a Numpy array contains a specified row"
   ]
  },
  {
   "cell_type": "code",
   "execution_count": 9,
   "id": "7a7e609c-8d6c-41cf-9462-f819399c23a9",
   "metadata": {},
   "outputs": [
    {
     "name": "stdout",
     "output_type": "stream",
     "text": [
      "[ 0  1  2  3  4  5  6  7  8  9 10 11 12 13 14 15 16 17 18 19]\n"
     ]
    }
   ],
   "source": [
    "num = np.arange(20)\n",
    "print(num)"
   ]
  },
  {
   "cell_type": "code",
   "execution_count": 10,
   "id": "8b7725b3-f3b1-47e1-89c8-a2befda897b7",
   "metadata": {},
   "outputs": [
    {
     "name": "stdout",
     "output_type": "stream",
     "text": [
      "[[ 0  1  2  3  4]\n",
      " [ 5  6  7  8  9]\n",
      " [10 11 12 13 14]\n",
      " [15 16 17 18 19]]\n"
     ]
    }
   ],
   "source": [
    "arr = np.reshape(num, [4,5])\n",
    "print(arr)"
   ]
  },
  {
   "cell_type": "code",
   "execution_count": 11,
   "id": "652842cd-2e43-4ed8-aa6e-40c1e251deca",
   "metadata": {},
   "outputs": [
    {
     "name": "stdout",
     "output_type": "stream",
     "text": [
      "True\n"
     ]
    }
   ],
   "source": [
    "print([0, 1, 2, 3, 4] in arr.tolist())"
   ]
  },
  {
   "cell_type": "code",
   "execution_count": 12,
   "id": "e670f22b-0a57-444e-aaae-55e949be195c",
   "metadata": {},
   "outputs": [
    {
     "name": "stdout",
     "output_type": "stream",
     "text": [
      "False\n"
     ]
    }
   ],
   "source": [
    "print([0, 1, 2, 8, 4] in arr.tolist())"
   ]
  },
  {
   "cell_type": "code",
   "execution_count": 13,
   "id": "856a8502-a816-4445-8a12-3053328b4294",
   "metadata": {},
   "outputs": [
    {
     "name": "stdout",
     "output_type": "stream",
     "text": [
      "True\n"
     ]
    }
   ],
   "source": [
    "print([15, 16, 17, 18, 19] in arr.tolist())"
   ]
  },
  {
   "cell_type": "markdown",
   "id": "5f29bde7-e4ba-4b62-bfba-0abb04181f2e",
   "metadata": {},
   "source": [
    "# 5. How to Remove rows in numpy array that contains non-numeric values?"
   ]
  },
  {
   "cell_type": "code",
   "execution_count": 14,
   "id": "b2e123a4-9ba1-4d78-ab2b-acd2305f0519",
   "metadata": {},
   "outputs": [],
   "source": [
    "import numpy as np"
   ]
  },
  {
   "cell_type": "code",
   "execution_count": 19,
   "id": "6f21b8d8-1ff5-4994-9c10-d7671ef25fbe",
   "metadata": {},
   "outputs": [
    {
     "name": "stdout",
     "output_type": "stream",
     "text": [
      "[[ 0.  1.  2.  3.]\n",
      " [ 5.  6. nan nan]\n",
      " [ 8.  9. 10. 11.]]\n"
     ]
    }
   ],
   "source": [
    "arr = np.array([[0, 1, 2, 3],\n",
    "                [5, 6, np.nan, np.nan],\n",
    "               [8, 9, 10, 11]])\n",
    "print(arr)"
   ]
  },
  {
   "cell_type": "code",
   "execution_count": 20,
   "id": "ef84b2ff-874d-4293-a0ec-b2af63837dcf",
   "metadata": {},
   "outputs": [
    {
     "name": "stdout",
     "output_type": "stream",
     "text": [
      "[[ 0.  1.  2.  3.]\n",
      " [ 8.  9. 10. 11.]]\n"
     ]
    }
   ],
   "source": [
    "result = arr[~np.isnan(arr).any(axis = 1)]\n",
    "print(result)"
   ]
  },
  {
   "cell_type": "markdown",
   "id": "31adcb28-f0ad-4b16-850f-9f0a48719dc1",
   "metadata": {},
   "source": [
    "# 6. Remove single-dimensional entries from the shape of an array"
   ]
  },
  {
   "cell_type": "code",
   "execution_count": 27,
   "id": "a9005235-c774-44b7-9a6d-d2467440122c",
   "metadata": {},
   "outputs": [
    {
     "name": "stdout",
     "output_type": "stream",
     "text": [
      "[[[1. 1. 1. 1.]]\n",
      "\n",
      " [[1. 1. 1. 1.]]\n",
      "\n",
      " [[1. 1. 1. 1.]]]\n"
     ]
    },
    {
     "data": {
      "text/plain": [
       "(3, 1, 4)"
      ]
     },
     "execution_count": 27,
     "metadata": {},
     "output_type": "execute_result"
    }
   ],
   "source": [
    "import numpy as np\n",
    "x = np.ones((3, 1, 4))\n",
    "print(x)\n",
    "x.shape"
   ]
  },
  {
   "cell_type": "code",
   "execution_count": 26,
   "id": "13509455-d434-4faa-9d30-9e629430b837",
   "metadata": {},
   "outputs": [
    {
     "name": "stdout",
     "output_type": "stream",
     "text": [
      "(3, 4)\n"
     ]
    }
   ],
   "source": [
    "print(np.squeeze(x).shape)"
   ]
  },
  {
   "cell_type": "markdown",
   "id": "830d7732-0c95-4293-8df0-bdd8327ddde5",
   "metadata": {},
   "source": [
    "# 7. Find the number of occurences of a sequence in a Numpy array"
   ]
  },
  {
   "cell_type": "code",
   "execution_count": 30,
   "id": "d5b9b8cf-5371-4d46-86c1-2ff14817ca9e",
   "metadata": {},
   "outputs": [
    {
     "name": "stdout",
     "output_type": "stream",
     "text": [
      "4\n"
     ]
    }
   ],
   "source": [
    "arr = np.array([[2, 8, 9, 4],\n",
    "                [9, 4, 9, 4],\n",
    "                [4, 5, 9, 7],\n",
    "                [2, 9, 4, 3]])\n",
    "result = repr(arr).count(\"9, 4\")\n",
    "print(result)"
   ]
  },
  {
   "cell_type": "markdown",
   "id": "50c79525-6ca9-471c-bdef-45460c90b690",
   "metadata": {},
   "source": [
    "# 8. Find the most frequent value in a Numpy array"
   ]
  },
  {
   "cell_type": "code",
   "execution_count": 31,
   "id": "ed1c43e0-82b8-4ea4-80ba-b035ae38de80",
   "metadata": {},
   "outputs": [
    {
     "name": "stdout",
     "output_type": "stream",
     "text": [
      "[1 2 3 4 5 1 2 1 2 2 2 2 2]\n",
      "2\n"
     ]
    }
   ],
   "source": [
    "arr = np.array([1, 2, 3, 4, 5, 1, 2, 1, 2, 2, 2, 2, 2])\n",
    "print(arr)\n",
    "print(np.bincount(arr).argmax())"
   ]
  },
  {
   "cell_type": "markdown",
   "id": "06075bf6-8fcc-4745-8383-6ef81a10c8cd",
   "metadata": {},
   "source": [
    "# 9. Combining a one and a two-dimensional Numpy Array"
   ]
  },
  {
   "cell_type": "code",
   "execution_count": 35,
   "id": "f3496749-c25d-4069-83ff-e1d1b85826a6",
   "metadata": {},
   "outputs": [
    {
     "data": {
      "text/plain": [
       "(3,)"
      ]
     },
     "execution_count": 35,
     "metadata": {},
     "output_type": "execute_result"
    }
   ],
   "source": [
    "arr1 = np.array([4, 5, 6])\n",
    "arr1.shape"
   ]
  },
  {
   "cell_type": "code",
   "execution_count": 36,
   "id": "c83e8af6-3913-48aa-8d59-61b179ad335c",
   "metadata": {},
   "outputs": [
    {
     "data": {
      "text/plain": [
       "(3, 3)"
      ]
     },
     "execution_count": 36,
     "metadata": {},
     "output_type": "execute_result"
    }
   ],
   "source": [
    "arr2 = np.array([[1, 2, 3],\n",
    "                 [4, 5, 6],\n",
    "                 [7, 8, 9]])\n",
    "arr2.shape"
   ]
  },
  {
   "cell_type": "code",
   "execution_count": 37,
   "id": "81bca69d-e355-4282-828e-26a70285b94b",
   "metadata": {},
   "outputs": [
    {
     "data": {
      "text/plain": [
       "array([[ 5,  7,  9],\n",
       "       [ 8, 10, 12],\n",
       "       [11, 13, 15]])"
      ]
     },
     "execution_count": 37,
     "metadata": {},
     "output_type": "execute_result"
    }
   ],
   "source": [
    "arr1 + arr2"
   ]
  },
  {
   "cell_type": "markdown",
   "id": "d5ca9158-58f4-4a6b-9f14-b79749ab56e2",
   "metadata": {},
   "source": [
    "# 10. How to build an array of all combinations of two Numpy arrays?"
   ]
  },
  {
   "cell_type": "code",
   "execution_count": 40,
   "id": "fd47960d-c588-4f6f-8ea7-32525727e29b",
   "metadata": {},
   "outputs": [
    {
     "name": "stdout",
     "output_type": "stream",
     "text": [
      "Array 1 : [1 2]\n",
      "Array 2 : [4 6]\n",
      "[[1 4]\n",
      " [1 6]\n",
      " [2 4]\n",
      " [2 6]]\n"
     ]
    }
   ],
   "source": [
    "arr1 = np.array([1, 2])\n",
    "arr2 = np.array([4, 6])\n",
    "print(\"Array 1 :\", arr1)\n",
    "print(\"Array 2 :\", arr2)\n",
    "arr3 = np.array(np.meshgrid(arr1, arr2)).T.reshape(-1, 2)\n",
    "print(arr3)"
   ]
  },
  {
   "cell_type": "markdown",
   "id": "214a8785-91cf-45c4-a3ac-a373cd3e4842",
   "metadata": {},
   "source": [
    "# Function 1 - np.concatenate"
   ]
  },
  {
   "cell_type": "code",
   "execution_count": 41,
   "id": "f4cac9a7-1576-4a3b-a389-03012dd157e9",
   "metadata": {},
   "outputs": [
    {
     "data": {
      "text/plain": [
       "array([[ 1,  2,  5,  6,  7],\n",
       "       [ 3,  4,  8,  9, 10]])"
      ]
     },
     "execution_count": 41,
     "metadata": {},
     "output_type": "execute_result"
    }
   ],
   "source": [
    "arr1 = [[1, 2],\n",
    "        [3, 4]]\n",
    "arr2 = [[5, 6, 7],\n",
    "        [8, 9, 10]]\n",
    "np.concatenate((arr1, arr2), axis = 1)"
   ]
  },
  {
   "cell_type": "code",
   "execution_count": 44,
   "id": "b8de928b-eb0e-418d-a4c3-7a05c06a8a59",
   "metadata": {},
   "outputs": [
    {
     "data": {
      "text/plain": [
       "array([[ 1,  2,  5],\n",
       "       [ 3,  4,  8],\n",
       "       [ 5,  6,  7],\n",
       "       [ 8,  9, 10]])"
      ]
     },
     "execution_count": 44,
     "metadata": {},
     "output_type": "execute_result"
    }
   ],
   "source": [
    "arr1 = [[1, 2, 5],\n",
    "        [3, 4, 8]]\n",
    "arr2 = [[5, 6, 7],\n",
    "        [8, 9, 10]]\n",
    "np.concatenate((arr1, arr2))"
   ]
  },
  {
   "cell_type": "raw",
   "id": "419629c0-a20c-40e7-8ab1-c66e4091a789",
   "metadata": {},
   "source": [
    "arr1 = [[1, 2],\n",
    "        [3, 4]]\n",
    "arr2 = [[5, 6, 7],\n",
    "        [8, 9, 10]]\n",
    "np.concatenate((arr1, arr2), axis = 0)"
   ]
  },
  {
   "cell_type": "raw",
   "id": "842543a8-09ba-4ac5-abc8-8da251aef9da",
   "metadata": {},
   "source": [
    "This function is not working because the arrays dimensions is not same."
   ]
  },
  {
   "cell_type": "markdown",
   "id": "0412df79-c547-4601-aad7-c0126e5644d7",
   "metadata": {},
   "source": [
    "# Function 2 - np.arange"
   ]
  },
  {
   "cell_type": "code",
   "execution_count": 47,
   "id": "31563cf8-2441-4360-ad0b-e51168cb037f",
   "metadata": {},
   "outputs": [
    {
     "name": "stdout",
     "output_type": "stream",
     "text": [
      "[ 1  2  3  4  5  6  7  8  9 10 11 12 13 14 15 16 17 18 19 20 21 22 23 24\n",
      " 25 26 27 28 29 30 31 32 33 34 35 36 37 38 39 40 41 42 43 44 45 46 47 48\n",
      " 49 50 51 52 53 54 55 56 57 58 59]\n"
     ]
    }
   ],
   "source": [
    "arr = np.arange(1, 60)\n",
    "print(arr)"
   ]
  },
  {
   "cell_type": "markdown",
   "id": "b36904a5-7a6d-40c5-86c0-a3205bf91f15",
   "metadata": {},
   "source": [
    "# Function 3 - np.reshape"
   ]
  },
  {
   "cell_type": "code",
   "execution_count": 48,
   "id": "dca3ad1e-2e73-42ed-a48e-711cf081a78e",
   "metadata": {},
   "outputs": [
    {
     "name": "stdout",
     "output_type": "stream",
     "text": [
      "[[ 0  1  2  3  4]\n",
      " [ 5  6  7  8  9]\n",
      " [10 11 12 13 14]\n",
      " [15 16 17 18 19]\n",
      " [20 21 22 23 24]\n",
      " [25 26 27 28 29]]\n"
     ]
    }
   ],
   "source": [
    "arr = np.arange(30)\n",
    "arr2 = np.reshape(arr, [6,5])\n",
    "print(arr2)"
   ]
  },
  {
   "cell_type": "markdown",
   "id": "5e5de9e5-3cac-4280-a3aa-2ff0f5f3919b",
   "metadata": {},
   "source": [
    "# Function 4 - np.zeros, np.ones and np.full"
   ]
  },
  {
   "cell_type": "code",
   "execution_count": 50,
   "id": "5b02ad39-6a43-4af1-9688-f0803dadde87",
   "metadata": {},
   "outputs": [
    {
     "name": "stdout",
     "output_type": "stream",
     "text": [
      "[[0. 0. 0. 0.]\n",
      " [0. 0. 0. 0.]\n",
      " [0. 0. 0. 0.]]\n"
     ]
    }
   ],
   "source": [
    "arr = np.zeros((3, 4))\n",
    "print(arr)"
   ]
  },
  {
   "cell_type": "code",
   "execution_count": 53,
   "id": "6a820c4f-536c-45ba-bcf1-7d4286f11ddd",
   "metadata": {},
   "outputs": [
    {
     "name": "stdout",
     "output_type": "stream",
     "text": [
      "[[1. 1. 1. 1.]\n",
      " [1. 1. 1. 1.]\n",
      " [1. 1. 1. 1.]\n",
      " [1. 1. 1. 1.]\n",
      " [1. 1. 1. 1.]]\n"
     ]
    }
   ],
   "source": [
    "arr = np.ones((5, 4))\n",
    "print(arr)"
   ]
  },
  {
   "cell_type": "code",
   "execution_count": 54,
   "id": "57e0ee7c-8a7b-4d52-9549-16a085d358d7",
   "metadata": {},
   "outputs": [
    {
     "name": "stdout",
     "output_type": "stream",
     "text": [
      "[[8 8 8 8 8 8]\n",
      " [8 8 8 8 8 8]\n",
      " [8 8 8 8 8 8]\n",
      " [8 8 8 8 8 8]\n",
      " [8 8 8 8 8 8]]\n"
     ]
    }
   ],
   "source": [
    "arr = np.full((5,6), 8)\n",
    "print(arr)"
   ]
  },
  {
   "cell_type": "markdown",
   "id": "bcf464c3-315f-466f-aa15-12dba16ce1a7",
   "metadata": {},
   "source": [
    "# Function 5 - np.linspace and np.eye"
   ]
  },
  {
   "cell_type": "code",
   "execution_count": 55,
   "id": "484115b2-1a1a-4331-b592-282d01a2400f",
   "metadata": {},
   "outputs": [
    {
     "name": "stdout",
     "output_type": "stream",
     "text": [
      "[ 2.          5.85714286  9.71428571 13.57142857 17.42857143 21.28571429\n",
      " 25.14285714 29.        ]\n"
     ]
    }
   ],
   "source": [
    "arr = np.linspace(2, 29, 8)\n",
    "print(arr)"
   ]
  },
  {
   "cell_type": "code",
   "execution_count": 56,
   "id": "d06fbb50-63c3-48e5-9102-e20ccba2f762",
   "metadata": {},
   "outputs": [
    {
     "data": {
      "text/plain": [
       "array([[1., 0., 0., 0.],\n",
       "       [0., 1., 0., 0.],\n",
       "       [0., 0., 1., 0.],\n",
       "       [0., 0., 0., 1.]])"
      ]
     },
     "execution_count": 56,
     "metadata": {},
     "output_type": "execute_result"
    }
   ],
   "source": [
    "np.eye(4)"
   ]
  },
  {
   "cell_type": "markdown",
   "id": "ba2fcd76-f2c2-4cbe-bca3-4c0db0567bca",
   "metadata": {},
   "source": [
    "# Function 6 - np.min and np.max"
   ]
  },
  {
   "cell_type": "code",
   "execution_count": 58,
   "id": "98ce3635-1804-46e5-a9df-62e0343ea95a",
   "metadata": {},
   "outputs": [
    {
     "name": "stdout",
     "output_type": "stream",
     "text": [
      "4\n"
     ]
    }
   ],
   "source": [
    "arr = np.array([4, 9, 10])\n",
    "a = np.min(arr)\n",
    "print(a)"
   ]
  },
  {
   "cell_type": "code",
   "execution_count": 59,
   "id": "44208f5e-9b55-4552-a2e5-3b3ea58d854e",
   "metadata": {},
   "outputs": [
    {
     "name": "stdout",
     "output_type": "stream",
     "text": [
      "10\n"
     ]
    }
   ],
   "source": [
    "arr = np.array([4, 9, 10])\n",
    "a = np.max(arr)\n",
    "print(a)"
   ]
  },
  {
   "cell_type": "markdown",
   "id": "45cd9d7c-893e-4568-8424-b341d2466741",
   "metadata": {},
   "source": [
    "# Function 7 - np.mean and np.median"
   ]
  },
  {
   "cell_type": "code",
   "execution_count": 60,
   "id": "00224c84-d089-4f93-ae1e-920e2f3972fd",
   "metadata": {},
   "outputs": [
    {
     "name": "stdout",
     "output_type": "stream",
     "text": [
      "2.0\n"
     ]
    }
   ],
   "source": [
    "arr = np.array([1, 2, 3])\n",
    "a = np.mean(arr)\n",
    "print(a)"
   ]
  },
  {
   "cell_type": "code",
   "execution_count": 62,
   "id": "5264a7fe-8652-4483-868b-567489154a6b",
   "metadata": {},
   "outputs": [
    {
     "name": "stdout",
     "output_type": "stream",
     "text": [
      "3.0\n"
     ]
    }
   ],
   "source": [
    "arr = np.array([1, 2, 3, 5, 6])\n",
    "a = np.median(arr)\n",
    "print(a)"
   ]
  },
  {
   "cell_type": "markdown",
   "id": "a05c0f28-9a4c-4164-8d8c-f35db6e34ab5",
   "metadata": {},
   "source": [
    "# Function 8 - np.dot"
   ]
  },
  {
   "cell_type": "code",
   "execution_count": 63,
   "id": "657c1219-7e95-47ac-8402-4946ba0aba4e",
   "metadata": {},
   "outputs": [
    {
     "name": "stdout",
     "output_type": "stream",
     "text": [
      "32\n"
     ]
    }
   ],
   "source": [
    "arr1 = np.array([1, 2, 3])\n",
    "arr2 = np.array([4, 5, 6])\n",
    "\n",
    "dot_product = np.dot(arr1, arr2)\n",
    "print(dot_product)"
   ]
  },
  {
   "cell_type": "code",
   "execution_count": null,
   "id": "133126f5-4c98-4933-ad79-4ddab34016a1",
   "metadata": {},
   "outputs": [],
   "source": []
  }
 ],
 "metadata": {
  "kernelspec": {
   "display_name": "Python 3 (ipykernel)",
   "language": "python",
   "name": "python3"
  },
  "language_info": {
   "codemirror_mode": {
    "name": "ipython",
    "version": 3
   },
   "file_extension": ".py",
   "mimetype": "text/x-python",
   "name": "python",
   "nbconvert_exporter": "python",
   "pygments_lexer": "ipython3",
   "version": "3.11.7"
  }
 },
 "nbformat": 4,
 "nbformat_minor": 5
}
